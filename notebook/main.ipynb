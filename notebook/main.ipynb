{
 "cells": [
  {
   "cell_type": "code",
   "execution_count": 104,
   "metadata": {},
   "outputs": [],
   "source": [
    "import pandas as pd\n",
    "import torch\n",
    "from scipy.spatial.transform import Rotation"
   ]
  },
  {
   "cell_type": "code",
   "execution_count": 2,
   "metadata": {},
   "outputs": [],
   "source": [
    "filepath=\"/home/wanghao/桌面/南岭项目-角色模型/XSENS数据/9.8测试数据-wh-1.8/Xsens DATA/NPose/New Session-001.xlsx\"\n",
    "sheet=pd.read_excel(filepath,sheet_name=None)"
   ]
  },
  {
   "cell_type": "code",
   "execution_count": 3,
   "metadata": {},
   "outputs": [
    {
     "data": {
      "text/plain": [
       "dict_keys(['General Information', 'Markers', 'Segment Orientation - Quat', 'Segment Orientation - Euler', 'Segment Position', 'Segment Velocity', 'Segment Acceleration', 'Segment Angular Velocity', 'Segment Angular Acceleration', 'Joint Angles ZXY', 'Joint Angles XZY', 'Ergonomic Joint Angles ZXY', 'Ergonomic Joint Angles XZY', 'Center of Mass', 'Sensor Free Acceleration', 'Sensor Magnetic Field', 'Sensor Orientation - Quat', 'Sensor Orientation - Euler'])"
      ]
     },
     "execution_count": 3,
     "metadata": {},
     "output_type": "execute_result"
    }
   ],
   "source": [
    "sheet.keys()"
   ]
  },
  {
   "cell_type": "code",
   "execution_count": 9,
   "metadata": {},
   "outputs": [
    {
     "data": {
      "text/plain": [
       "Index(['L5S1 Lateral Bending', 'L4L3 Lateral Bending', 'L1T12 Lateral Bending',\n",
       "       'T9T8 Lateral Bending', 'T1C7 Lateral Bending',\n",
       "       'C1 Head Lateral Bending', 'Right T4 Shoulder Abduction/Adduction',\n",
       "       'Right Shoulder Abduction/Adduction',\n",
       "       'Right Elbow Ulnar Deviation/Radial Deviation',\n",
       "       'Right Wrist Ulnar Deviation/Radial Deviation',\n",
       "       'Left T4 Shoulder Abduction/Adduction',\n",
       "       'Left Shoulder Abduction/Adduction',\n",
       "       'Left Elbow Ulnar Deviation/Radial Deviation',\n",
       "       'Left Wrist Ulnar Deviation/Radial Deviation',\n",
       "       'Right Hip Abduction/Adduction', 'Right Knee Abduction/Adduction',\n",
       "       'Right Ankle Abduction/Adduction',\n",
       "       'Right Ball Foot Abduction/Adduction', 'Left Hip Abduction/Adduction',\n",
       "       'Left Knee Abduction/Adduction', 'Left Ankle Abduction/Adduction',\n",
       "       'Left Ball Foot Abduction/Adduction'],\n",
       "      dtype='object')"
      ]
     },
     "execution_count": 9,
     "metadata": {},
     "output_type": "execute_result"
    }
   ],
   "source": [
    "sheet['Joint Angles ZXY'].keys()[1:][::3]"
   ]
  },
  {
   "cell_type": "code",
   "execution_count": 10,
   "metadata": {},
   "outputs": [],
   "source": [
    "angles_xzy=sheet['Joint Angles XZY']\n",
    "angles_zxy=sheet['Joint Angles ZXY']"
   ]
  },
  {
   "cell_type": "code",
   "execution_count": 13,
   "metadata": {},
   "outputs": [
    {
     "data": {
      "text/plain": [
       "Index(['Frame', 'L5S1 Lateral Bending', 'L5S1 Axial Bending',\n",
       "       'L5S1 Flexion/Extension', 'L4L3 Lateral Bending', 'L4L3 Axial Rotation',\n",
       "       'L4L3 Flexion/Extension', 'L1T12 Lateral Bending',\n",
       "       'L1T12 Axial Rotation', 'L1T12 Flexion/Extension',\n",
       "       'T9T8 Lateral Bending', 'T9T8 Axial Rotation', 'T9T8 Flexion/Extension',\n",
       "       'T1C7 Lateral Bending', 'T1C7 Axial Rotation', 'T1C7 Flexion/Extension',\n",
       "       'C1 Head Lateral Bending', 'C1 Head Axial Rotation',\n",
       "       'C1 Head Flexion/Extension', 'Right T4 Shoulder Abduction/Adduction',\n",
       "       'Right T4 Shoulder Internal/External Rotation',\n",
       "       'Right T4 Shoulder Flexion/Extension',\n",
       "       'Right Shoulder Abduction/Adduction',\n",
       "       'Right Shoulder Internal/External Rotation',\n",
       "       'Right Shoulder Flexion/Extension',\n",
       "       'Right Elbow Ulnar Deviation/Radial Deviation',\n",
       "       'Right Elbow Pronation/Supination', 'Right Elbow Flexion/Extension',\n",
       "       'Right Wrist Ulnar Deviation/Radial Deviation',\n",
       "       'Right Wrist Pronation/Supination', 'Right Wrist Flexion/Extension',\n",
       "       'Left T4 Shoulder Abduction/Adduction',\n",
       "       'Left T4 Shoulder Internal/External Rotation',\n",
       "       'Left T4 Shoulder Flexion/Extension',\n",
       "       'Left Shoulder Abduction/Adduction',\n",
       "       'Left Shoulder Internal/External Rotation',\n",
       "       'Left Shoulder Flexion/Extension',\n",
       "       'Left Elbow Ulnar Deviation/Radial Deviation',\n",
       "       'Left Elbow Pronation/Supination', 'Left Elbow Flexion/Extension',\n",
       "       'Left Wrist Ulnar Deviation/Radial Deviation',\n",
       "       'Left Wrist Pronation/Supination', 'Left Wrist Flexion/Extension',\n",
       "       'Right Hip Abduction/Adduction', 'Right Hip Internal/External Rotation',\n",
       "       'Right Hip Flexion/Extension', 'Right Knee Abduction/Adduction',\n",
       "       'Right Knee Internal/External Rotation', 'Right Knee Flexion/Extension',\n",
       "       'Right Ankle Abduction/Adduction',\n",
       "       'Right Ankle Internal/External Rotation',\n",
       "       'Right Ankle Dorsiflexion/Plantarflexion',\n",
       "       'Right Ball Foot Abduction/Adduction',\n",
       "       'Right Ball Foot Internal/External Rotation',\n",
       "       'Right Ball Foot Flexion/Extension', 'Left Hip Abduction/Adduction',\n",
       "       'Left Hip Internal/External Rotation', 'Left Hip Flexion/Extension',\n",
       "       'Left Knee Abduction/Adduction', 'Left Knee Internal/External Rotation',\n",
       "       'Left Knee Flexion/Extension', 'Left Ankle Abduction/Adduction',\n",
       "       'Left Ankle Internal/External Rotation',\n",
       "       'Left Ankle Dorsiflexion/Plantarflexion',\n",
       "       'Left Ball Foot Abduction/Adduction',\n",
       "       'Left Ball Foot Internal/External Rotation',\n",
       "       'Left Ball Foot Flexion/Extension'],\n",
       "      dtype='object')"
      ]
     },
     "execution_count": 13,
     "metadata": {},
     "output_type": "execute_result"
    }
   ],
   "source": [
    "angles_xzy.keys()"
   ]
  },
  {
   "cell_type": "code",
   "execution_count": 14,
   "metadata": {},
   "outputs": [
    {
     "data": {
      "text/html": [
       "<div>\n",
       "<style scoped>\n",
       "    .dataframe tbody tr th:only-of-type {\n",
       "        vertical-align: middle;\n",
       "    }\n",
       "\n",
       "    .dataframe tbody tr th {\n",
       "        vertical-align: top;\n",
       "    }\n",
       "\n",
       "    .dataframe thead th {\n",
       "        text-align: right;\n",
       "    }\n",
       "</style>\n",
       "<table border=\"1\" class=\"dataframe\">\n",
       "  <thead>\n",
       "    <tr style=\"text-align: right;\">\n",
       "      <th></th>\n",
       "      <th>Frame</th>\n",
       "      <th>L5S1 Lateral Bending</th>\n",
       "      <th>L5S1 Axial Bending</th>\n",
       "      <th>L5S1 Flexion/Extension</th>\n",
       "      <th>L4L3 Lateral Bending</th>\n",
       "      <th>L4L3 Axial Rotation</th>\n",
       "      <th>L4L3 Flexion/Extension</th>\n",
       "      <th>L1T12 Lateral Bending</th>\n",
       "      <th>L1T12 Axial Rotation</th>\n",
       "      <th>L1T12 Flexion/Extension</th>\n",
       "      <th>...</th>\n",
       "      <th>Left Hip Flexion/Extension</th>\n",
       "      <th>Left Knee Abduction/Adduction</th>\n",
       "      <th>Left Knee Internal/External Rotation</th>\n",
       "      <th>Left Knee Flexion/Extension</th>\n",
       "      <th>Left Ankle Abduction/Adduction</th>\n",
       "      <th>Left Ankle Internal/External Rotation</th>\n",
       "      <th>Left Ankle Dorsiflexion/Plantarflexion</th>\n",
       "      <th>Left Ball Foot Abduction/Adduction</th>\n",
       "      <th>Left Ball Foot Internal/External Rotation</th>\n",
       "      <th>Left Ball Foot Flexion/Extension</th>\n",
       "    </tr>\n",
       "  </thead>\n",
       "  <tbody>\n",
       "    <tr>\n",
       "      <th>0</th>\n",
       "      <td>0</td>\n",
       "      <td>0.057536</td>\n",
       "      <td>-1.230369</td>\n",
       "      <td>-0.139137</td>\n",
       "      <td>0.009915</td>\n",
       "      <td>0.335176</td>\n",
       "      <td>0.016515</td>\n",
       "      <td>0.004983</td>\n",
       "      <td>-0.237549</td>\n",
       "      <td>-0.011705</td>\n",
       "      <td>...</td>\n",
       "      <td>-2.434853</td>\n",
       "      <td>-0.049634</td>\n",
       "      <td>-0.206231</td>\n",
       "      <td>-0.000726</td>\n",
       "      <td>-0.024146</td>\n",
       "      <td>-0.556493</td>\n",
       "      <td>0.030987</td>\n",
       "      <td>-0.008746</td>\n",
       "      <td>0.198457</td>\n",
       "      <td>0.003890</td>\n",
       "    </tr>\n",
       "    <tr>\n",
       "      <th>1</th>\n",
       "      <td>0</td>\n",
       "      <td>0.057897</td>\n",
       "      <td>-1.227359</td>\n",
       "      <td>-0.137290</td>\n",
       "      <td>0.009706</td>\n",
       "      <td>0.329883</td>\n",
       "      <td>0.016087</td>\n",
       "      <td>0.005010</td>\n",
       "      <td>-0.236952</td>\n",
       "      <td>-0.011555</td>\n",
       "      <td>...</td>\n",
       "      <td>-2.360869</td>\n",
       "      <td>-0.020739</td>\n",
       "      <td>-0.084526</td>\n",
       "      <td>-0.000119</td>\n",
       "      <td>-0.027184</td>\n",
       "      <td>-0.598899</td>\n",
       "      <td>0.034296</td>\n",
       "      <td>-0.009664</td>\n",
       "      <td>0.201718</td>\n",
       "      <td>0.003696</td>\n",
       "    </tr>\n",
       "    <tr>\n",
       "      <th>2</th>\n",
       "      <td>0</td>\n",
       "      <td>0.058267</td>\n",
       "      <td>-1.224379</td>\n",
       "      <td>-0.135458</td>\n",
       "      <td>0.009496</td>\n",
       "      <td>0.324590</td>\n",
       "      <td>0.015664</td>\n",
       "      <td>0.005037</td>\n",
       "      <td>-0.236362</td>\n",
       "      <td>-0.011406</td>\n",
       "      <td>...</td>\n",
       "      <td>-2.286380</td>\n",
       "      <td>0.010919</td>\n",
       "      <td>0.043672</td>\n",
       "      <td>-0.000031</td>\n",
       "      <td>-0.030470</td>\n",
       "      <td>-0.642735</td>\n",
       "      <td>0.037805</td>\n",
       "      <td>-0.010498</td>\n",
       "      <td>0.202861</td>\n",
       "      <td>0.003460</td>\n",
       "    </tr>\n",
       "    <tr>\n",
       "      <th>3</th>\n",
       "      <td>0</td>\n",
       "      <td>0.058583</td>\n",
       "      <td>-1.221757</td>\n",
       "      <td>-0.133892</td>\n",
       "      <td>0.009323</td>\n",
       "      <td>0.320193</td>\n",
       "      <td>0.015316</td>\n",
       "      <td>0.005060</td>\n",
       "      <td>-0.235845</td>\n",
       "      <td>-0.011281</td>\n",
       "      <td>...</td>\n",
       "      <td>-2.204285</td>\n",
       "      <td>0.047435</td>\n",
       "      <td>0.188007</td>\n",
       "      <td>-0.000572</td>\n",
       "      <td>-0.031072</td>\n",
       "      <td>-0.652184</td>\n",
       "      <td>0.038730</td>\n",
       "      <td>-0.010479</td>\n",
       "      <td>0.200541</td>\n",
       "      <td>0.003348</td>\n",
       "    </tr>\n",
       "    <tr>\n",
       "      <th>4</th>\n",
       "      <td>0</td>\n",
       "      <td>0.058920</td>\n",
       "      <td>-1.220753</td>\n",
       "      <td>-0.132818</td>\n",
       "      <td>0.009190</td>\n",
       "      <td>0.316893</td>\n",
       "      <td>0.015062</td>\n",
       "      <td>0.005084</td>\n",
       "      <td>-0.235642</td>\n",
       "      <td>-0.011200</td>\n",
       "      <td>...</td>\n",
       "      <td>-2.116593</td>\n",
       "      <td>0.084899</td>\n",
       "      <td>0.337503</td>\n",
       "      <td>-0.001851</td>\n",
       "      <td>-0.027744</td>\n",
       "      <td>-0.612502</td>\n",
       "      <td>0.035940</td>\n",
       "      <td>-0.009779</td>\n",
       "      <td>0.205856</td>\n",
       "      <td>0.003882</td>\n",
       "    </tr>\n",
       "    <tr>\n",
       "      <th>...</th>\n",
       "      <td>...</td>\n",
       "      <td>...</td>\n",
       "      <td>...</td>\n",
       "      <td>...</td>\n",
       "      <td>...</td>\n",
       "      <td>...</td>\n",
       "      <td>...</td>\n",
       "      <td>...</td>\n",
       "      <td>...</td>\n",
       "      <td>...</td>\n",
       "      <td>...</td>\n",
       "      <td>...</td>\n",
       "      <td>...</td>\n",
       "      <td>...</td>\n",
       "      <td>...</td>\n",
       "      <td>...</td>\n",
       "      <td>...</td>\n",
       "      <td>...</td>\n",
       "      <td>...</td>\n",
       "      <td>...</td>\n",
       "      <td>...</td>\n",
       "    </tr>\n",
       "    <tr>\n",
       "      <th>1872</th>\n",
       "      <td>0</td>\n",
       "      <td>-0.001395</td>\n",
       "      <td>0.063348</td>\n",
       "      <td>-0.000795</td>\n",
       "      <td>-0.002096</td>\n",
       "      <td>-0.051029</td>\n",
       "      <td>0.000276</td>\n",
       "      <td>-0.000118</td>\n",
       "      <td>0.012082</td>\n",
       "      <td>-0.000065</td>\n",
       "      <td>...</td>\n",
       "      <td>-0.002430</td>\n",
       "      <td>-0.000467</td>\n",
       "      <td>0.040050</td>\n",
       "      <td>0.000601</td>\n",
       "      <td>0.000104</td>\n",
       "      <td>-0.021319</td>\n",
       "      <td>-0.000407</td>\n",
       "      <td>0.000000</td>\n",
       "      <td>0.000000</td>\n",
       "      <td>0.000000</td>\n",
       "    </tr>\n",
       "    <tr>\n",
       "      <th>1873</th>\n",
       "      <td>0</td>\n",
       "      <td>-0.001284</td>\n",
       "      <td>0.062975</td>\n",
       "      <td>-0.000848</td>\n",
       "      <td>-0.002330</td>\n",
       "      <td>-0.055741</td>\n",
       "      <td>0.000324</td>\n",
       "      <td>-0.000108</td>\n",
       "      <td>0.012007</td>\n",
       "      <td>-0.000070</td>\n",
       "      <td>...</td>\n",
       "      <td>-0.002173</td>\n",
       "      <td>-0.000451</td>\n",
       "      <td>0.040234</td>\n",
       "      <td>0.000630</td>\n",
       "      <td>0.000064</td>\n",
       "      <td>-0.016893</td>\n",
       "      <td>-0.000327</td>\n",
       "      <td>0.000000</td>\n",
       "      <td>0.000000</td>\n",
       "      <td>0.000000</td>\n",
       "    </tr>\n",
       "    <tr>\n",
       "      <th>1874</th>\n",
       "      <td>0</td>\n",
       "      <td>-0.001153</td>\n",
       "      <td>0.061700</td>\n",
       "      <td>-0.000889</td>\n",
       "      <td>-0.002581</td>\n",
       "      <td>-0.060643</td>\n",
       "      <td>0.000376</td>\n",
       "      <td>-0.000097</td>\n",
       "      <td>0.011749</td>\n",
       "      <td>-0.000073</td>\n",
       "      <td>...</td>\n",
       "      <td>-0.001859</td>\n",
       "      <td>-0.000471</td>\n",
       "      <td>0.042248</td>\n",
       "      <td>0.000698</td>\n",
       "      <td>0.000032</td>\n",
       "      <td>-0.012111</td>\n",
       "      <td>-0.000238</td>\n",
       "      <td>0.000000</td>\n",
       "      <td>0.000000</td>\n",
       "      <td>0.000000</td>\n",
       "    </tr>\n",
       "    <tr>\n",
       "      <th>1875</th>\n",
       "      <td>0</td>\n",
       "      <td>-0.001011</td>\n",
       "      <td>0.059620</td>\n",
       "      <td>-0.000914</td>\n",
       "      <td>-0.002843</td>\n",
       "      <td>-0.065626</td>\n",
       "      <td>0.000433</td>\n",
       "      <td>-0.000085</td>\n",
       "      <td>0.011339</td>\n",
       "      <td>-0.000075</td>\n",
       "      <td>...</td>\n",
       "      <td>-0.001557</td>\n",
       "      <td>-0.000492</td>\n",
       "      <td>0.044278</td>\n",
       "      <td>0.000770</td>\n",
       "      <td>0.000011</td>\n",
       "      <td>-0.007127</td>\n",
       "      <td>-0.000143</td>\n",
       "      <td>0.000000</td>\n",
       "      <td>0.000000</td>\n",
       "      <td>0.000000</td>\n",
       "    </tr>\n",
       "    <tr>\n",
       "      <th>1876</th>\n",
       "      <td>0</td>\n",
       "      <td>-0.000850</td>\n",
       "      <td>0.056108</td>\n",
       "      <td>-0.000906</td>\n",
       "      <td>-0.003105</td>\n",
       "      <td>-0.070386</td>\n",
       "      <td>0.000489</td>\n",
       "      <td>-0.000071</td>\n",
       "      <td>0.010663</td>\n",
       "      <td>-0.000074</td>\n",
       "      <td>...</td>\n",
       "      <td>-0.001234</td>\n",
       "      <td>-0.000514</td>\n",
       "      <td>0.046222</td>\n",
       "      <td>0.000838</td>\n",
       "      <td>0.000006</td>\n",
       "      <td>-0.005027</td>\n",
       "      <td>-0.000101</td>\n",
       "      <td>0.000000</td>\n",
       "      <td>0.000000</td>\n",
       "      <td>0.000000</td>\n",
       "    </tr>\n",
       "  </tbody>\n",
       "</table>\n",
       "<p>1877 rows × 67 columns</p>\n",
       "</div>"
      ],
      "text/plain": [
       "      Frame  L5S1 Lateral Bending  L5S1 Axial Bending  L5S1 Flexion/Extension  \\\n",
       "0         0              0.057536           -1.230369               -0.139137   \n",
       "1         0              0.057897           -1.227359               -0.137290   \n",
       "2         0              0.058267           -1.224379               -0.135458   \n",
       "3         0              0.058583           -1.221757               -0.133892   \n",
       "4         0              0.058920           -1.220753               -0.132818   \n",
       "...     ...                   ...                 ...                     ...   \n",
       "1872      0             -0.001395            0.063348               -0.000795   \n",
       "1873      0             -0.001284            0.062975               -0.000848   \n",
       "1874      0             -0.001153            0.061700               -0.000889   \n",
       "1875      0             -0.001011            0.059620               -0.000914   \n",
       "1876      0             -0.000850            0.056108               -0.000906   \n",
       "\n",
       "      L4L3 Lateral Bending  L4L3 Axial Rotation  L4L3 Flexion/Extension  \\\n",
       "0                 0.009915             0.335176                0.016515   \n",
       "1                 0.009706             0.329883                0.016087   \n",
       "2                 0.009496             0.324590                0.015664   \n",
       "3                 0.009323             0.320193                0.015316   \n",
       "4                 0.009190             0.316893                0.015062   \n",
       "...                    ...                  ...                     ...   \n",
       "1872             -0.002096            -0.051029                0.000276   \n",
       "1873             -0.002330            -0.055741                0.000324   \n",
       "1874             -0.002581            -0.060643                0.000376   \n",
       "1875             -0.002843            -0.065626                0.000433   \n",
       "1876             -0.003105            -0.070386                0.000489   \n",
       "\n",
       "      L1T12 Lateral Bending  L1T12 Axial Rotation  L1T12 Flexion/Extension  \\\n",
       "0                  0.004983             -0.237549                -0.011705   \n",
       "1                  0.005010             -0.236952                -0.011555   \n",
       "2                  0.005037             -0.236362                -0.011406   \n",
       "3                  0.005060             -0.235845                -0.011281   \n",
       "4                  0.005084             -0.235642                -0.011200   \n",
       "...                     ...                   ...                      ...   \n",
       "1872              -0.000118              0.012082                -0.000065   \n",
       "1873              -0.000108              0.012007                -0.000070   \n",
       "1874              -0.000097              0.011749                -0.000073   \n",
       "1875              -0.000085              0.011339                -0.000075   \n",
       "1876              -0.000071              0.010663                -0.000074   \n",
       "\n",
       "      ...  Left Hip Flexion/Extension  Left Knee Abduction/Adduction  \\\n",
       "0     ...                   -2.434853                      -0.049634   \n",
       "1     ...                   -2.360869                      -0.020739   \n",
       "2     ...                   -2.286380                       0.010919   \n",
       "3     ...                   -2.204285                       0.047435   \n",
       "4     ...                   -2.116593                       0.084899   \n",
       "...   ...                         ...                            ...   \n",
       "1872  ...                   -0.002430                      -0.000467   \n",
       "1873  ...                   -0.002173                      -0.000451   \n",
       "1874  ...                   -0.001859                      -0.000471   \n",
       "1875  ...                   -0.001557                      -0.000492   \n",
       "1876  ...                   -0.001234                      -0.000514   \n",
       "\n",
       "      Left Knee Internal/External Rotation  Left Knee Flexion/Extension  \\\n",
       "0                                -0.206231                    -0.000726   \n",
       "1                                -0.084526                    -0.000119   \n",
       "2                                 0.043672                    -0.000031   \n",
       "3                                 0.188007                    -0.000572   \n",
       "4                                 0.337503                    -0.001851   \n",
       "...                                    ...                          ...   \n",
       "1872                              0.040050                     0.000601   \n",
       "1873                              0.040234                     0.000630   \n",
       "1874                              0.042248                     0.000698   \n",
       "1875                              0.044278                     0.000770   \n",
       "1876                              0.046222                     0.000838   \n",
       "\n",
       "      Left Ankle Abduction/Adduction  Left Ankle Internal/External Rotation  \\\n",
       "0                          -0.024146                              -0.556493   \n",
       "1                          -0.027184                              -0.598899   \n",
       "2                          -0.030470                              -0.642735   \n",
       "3                          -0.031072                              -0.652184   \n",
       "4                          -0.027744                              -0.612502   \n",
       "...                              ...                                    ...   \n",
       "1872                        0.000104                              -0.021319   \n",
       "1873                        0.000064                              -0.016893   \n",
       "1874                        0.000032                              -0.012111   \n",
       "1875                        0.000011                              -0.007127   \n",
       "1876                        0.000006                              -0.005027   \n",
       "\n",
       "      Left Ankle Dorsiflexion/Plantarflexion  \\\n",
       "0                                   0.030987   \n",
       "1                                   0.034296   \n",
       "2                                   0.037805   \n",
       "3                                   0.038730   \n",
       "4                                   0.035940   \n",
       "...                                      ...   \n",
       "1872                               -0.000407   \n",
       "1873                               -0.000327   \n",
       "1874                               -0.000238   \n",
       "1875                               -0.000143   \n",
       "1876                               -0.000101   \n",
       "\n",
       "      Left Ball Foot Abduction/Adduction  \\\n",
       "0                              -0.008746   \n",
       "1                              -0.009664   \n",
       "2                              -0.010498   \n",
       "3                              -0.010479   \n",
       "4                              -0.009779   \n",
       "...                                  ...   \n",
       "1872                            0.000000   \n",
       "1873                            0.000000   \n",
       "1874                            0.000000   \n",
       "1875                            0.000000   \n",
       "1876                            0.000000   \n",
       "\n",
       "      Left Ball Foot Internal/External Rotation  \\\n",
       "0                                      0.198457   \n",
       "1                                      0.201718   \n",
       "2                                      0.202861   \n",
       "3                                      0.200541   \n",
       "4                                      0.205856   \n",
       "...                                         ...   \n",
       "1872                                   0.000000   \n",
       "1873                                   0.000000   \n",
       "1874                                   0.000000   \n",
       "1875                                   0.000000   \n",
       "1876                                   0.000000   \n",
       "\n",
       "      Left Ball Foot Flexion/Extension  \n",
       "0                             0.003890  \n",
       "1                             0.003696  \n",
       "2                             0.003460  \n",
       "3                             0.003348  \n",
       "4                             0.003882  \n",
       "...                                ...  \n",
       "1872                          0.000000  \n",
       "1873                          0.000000  \n",
       "1874                          0.000000  \n",
       "1875                          0.000000  \n",
       "1876                          0.000000  \n",
       "\n",
       "[1877 rows x 67 columns]"
      ]
     },
     "execution_count": 14,
     "metadata": {},
     "output_type": "execute_result"
    }
   ],
   "source": [
    "angles_xzy-angles_zxy"
   ]
  },
  {
   "cell_type": "code",
   "execution_count": 15,
   "metadata": {},
   "outputs": [],
   "source": []
  },
  {
   "cell_type": "code",
   "execution_count": 16,
   "metadata": {},
   "outputs": [],
   "source": [
    "dip_data=torch.load(\"/home/wanghao/桌面/Animation_human/data/dip_imu/1.pt\")"
   ]
  },
  {
   "cell_type": "code",
   "execution_count": 37,
   "metadata": {},
   "outputs": [],
   "source": [
    "poses=dip_data[0]\n",
    "pose0=poses[0]"
   ]
  },
  {
   "cell_type": "code",
   "execution_count": 38,
   "metadata": {},
   "outputs": [],
   "source": [
    "pose0=pose0.detach().numpy().tolist()"
   ]
  },
  {
   "cell_type": "code",
   "execution_count": 41,
   "metadata": {},
   "outputs": [
    {
     "data": {
      "text/plain": [
       "[[0.9998874664306641, -0.012438775040209293, 0.008385127410292625],\n",
       " [0.012280386872589588, 0.999750018119812, 0.018683111295104027],\n",
       " [-0.008615425787866116, -0.01857803761959076, 0.9997903108596802]]"
      ]
     },
     "execution_count": 41,
     "metadata": {},
     "output_type": "execute_result"
    }
   ],
   "source": [
    "pose0[0]"
   ]
  },
  {
   "cell_type": "code",
   "execution_count": 25,
   "metadata": {},
   "outputs": [
    {
     "data": {
      "text/plain": [
       "torch.Size([2755, 3])"
      ]
     },
     "execution_count": 25,
     "metadata": {},
     "output_type": "execute_result"
    }
   ],
   "source": [
    "dip_data[1].shape"
   ]
  },
  {
   "cell_type": "code",
   "execution_count": 1,
   "metadata": {},
   "outputs": [],
   "source": [
    "import numpy as np"
   ]
  },
  {
   "cell_type": "code",
   "execution_count": 16,
   "metadata": {},
   "outputs": [],
   "source": [
    "m1=np.array([[ -0.6203029,  0.0247216,  0.7839727],[0.0037154,  0.9995846, -0.0285809],[-0.7843536, -0.0148161, -0.6201370 ]])\n",
    "m2=np.array([[1,0,0],[0,0.9938837,-0.1104317],[0,0.1104317,0.9938837]])\n",
    "m = m1 @ m2"
   ]
  },
  {
   "cell_type": "code",
   "execution_count": 17,
   "metadata": {},
   "outputs": [
    {
     "data": {
      "text/plain": [
       "array([[-0.6203029 ,  0.11114583,  0.77644764],\n",
       "       [ 0.0037154 ,  0.9903146 , -0.13879192],\n",
       "       [-0.7843536 , -0.08320826, -0.61470789]])"
      ]
     },
     "execution_count": 17,
     "metadata": {},
     "output_type": "execute_result"
    }
   ],
   "source": [
    "m"
   ]
  },
  {
   "cell_type": "code",
   "execution_count": 2,
   "metadata": {},
   "outputs": [],
   "source": [
    "#rotation matrices\n",
    "def Rx(ang, in_radians = False):\n",
    "    if in_radians == False:\n",
    "        ang = np.radians(ang)\n",
    "\n",
    "    Rot_Mat = np.array([\n",
    "        [1, 0, 0],\n",
    "        [0, np.cos(ang), -1*np.sin(ang)],\n",
    "        [0, np.sin(ang),    np.cos(ang)]\n",
    "    ])\n",
    "    return Rot_Mat\n",
    "\n",
    "def Ry(ang, in_radians = False):\n",
    "    if in_radians == False:\n",
    "        ang = np.radians(ang)\n",
    "\n",
    "    Rot_Mat = np.array([\n",
    "        [np.cos(ang), 0, np.sin(ang)],\n",
    "        [0, 1, 0],\n",
    "        [-1*np.sin(ang), 0, np.cos(ang)]\n",
    "    ])\n",
    "    return Rot_Mat\n",
    "\n",
    "def Rz(ang, in_radians = False):\n",
    "    if in_radians == False:\n",
    "        ang = np.radians(ang)\n",
    "\n",
    "    Rot_Mat = np.array([\n",
    "        [np.cos(ang), -1*np.sin(ang), 0],\n",
    "        [np.sin(ang), np.cos(ang), 0],\n",
    "        [0, 0, 1]\n",
    "    ])\n",
    "    return Rot_Mat"
   ]
  },
  {
   "cell_type": "code",
   "execution_count": 110,
   "metadata": {},
   "outputs": [],
   "source": [
    "m1= Ry(16.093358) @ Rx(-1.417120) @ Rz(0.474536)\n",
    "m2= Ry(0) @ Rx(-6.340192) @ Rz(0)\n",
    "m=np.linalg.inv(m2) @ m1 @ m2"
   ]
  },
  {
   "cell_type": "code",
   "execution_count": 111,
   "metadata": {},
   "outputs": [
    {
     "data": {
      "text/plain": [
       "array([ 2.59819607, -0.98603897, 15.95130773])"
      ]
     },
     "execution_count": 111,
     "metadata": {},
     "output_type": "execute_result"
    }
   ],
   "source": [
    "Rotation.from_matrix(m).as_euler(\"ZXY\",degrees=True)"
   ]
  },
  {
   "cell_type": "code",
   "execution_count": 128,
   "metadata": {},
   "outputs": [
    {
     "data": {
      "text/plain": [
       "array([16.08821332, -1.16862504, -1.28401294])"
      ]
     },
     "execution_count": 128,
     "metadata": {},
     "output_type": "execute_result"
    }
   ],
   "source": [
    "# m1= Rz(0.474536) @  Rx(-1.417120) @ Ry(16.093358)\n",
    "# m2= Rz(0) @ Rx(-6.340192) @ Ry(0)\n",
    "\n",
    "m1=Rotation.from_euler(\"YXZ\",angles=[16.093358, -1.417120, 0.474536],degrees=True).as_matrix()\n",
    "m2=Rotation.from_euler(\"YXZ\",angles=[0, -6.340192, 0],degrees=True).as_matrix()\n",
    "m= m2 @ m1 @ np.linalg.inv(m2)\n",
    "Rotation.from_matrix(m).as_euler(\"YXZ\",degrees=True)"
   ]
  },
  {
   "cell_type": "markdown",
   "metadata": {},
   "source": [
    "## kaishi"
   ]
  },
  {
   "cell_type": "code",
   "execution_count": 149,
   "metadata": {},
   "outputs": [
    {
     "data": {
      "text/plain": [
       "array([  8.87603997, -11.0872695 ,   1.33476167])"
      ]
     },
     "execution_count": 149,
     "metadata": {},
     "output_type": "execute_result"
    }
   ],
   "source": [
    "right_collar_rest_matrix=np.array([[0,-1,0],[1,0,0],[0,0,1]])\n",
    "# right_collar_tosmpl_matrix=np.array([[0,1,0],[-1,0,0],[0,0,1]])\n",
    "right_collar_pose_eluer=np.array([-11.218266,-8.709072,3.054929])\n",
    "right_collar_pose_matrix=Rotation.from_euler(\"YXZ\",right_collar_pose_eluer,degrees=True).as_matrix()\n",
    "\n",
    "right_collar_pose_matrix_=np.linalg.inv(right_collar_rest_matrix) @ right_collar_pose_matrix @ right_collar_rest_matrix\n",
    "Rotation.from_matrix(right_collar_pose_matrix_).as_euler(\"ZXY\",degrees=True)"
   ]
  },
  {
   "cell_type": "code",
   "execution_count": null,
   "metadata": {},
   "outputs": [],
   "source": []
  }
 ],
 "metadata": {
  "kernelspec": {
   "display_name": "blender",
   "language": "python",
   "name": "python3"
  },
  "language_info": {
   "codemirror_mode": {
    "name": "ipython",
    "version": 3
   },
   "file_extension": ".py",
   "mimetype": "text/x-python",
   "name": "python",
   "nbconvert_exporter": "python",
   "pygments_lexer": "ipython3",
   "version": "3.10.12"
  },
  "orig_nbformat": 4
 },
 "nbformat": 4,
 "nbformat_minor": 2
}
